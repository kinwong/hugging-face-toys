{
 "cells": [
  {
   "attachments": {},
   "cell_type": "markdown",
   "metadata": {},
   "source": [
    "# bert-large-cased\n",
    "<https://huggingface.co/bert-large-cased>\n"
   ]
  },
  {
   "cell_type": "code",
   "execution_count": 1,
   "metadata": {},
   "outputs": [
    {
     "name": "stderr",
     "output_type": "stream",
     "text": [
      "/Users/kinwong/mambaforge/envs/pt-hf/lib/python3.10/site-packages/tqdm/auto.py:22: TqdmWarning: IProgress not found. Please update jupyter and ipywidgets. See https://ipywidgets.readthedocs.io/en/stable/user_install.html\n",
      "  from .autonotebook import tqdm as notebook_tqdm\n",
      "Downloading (…)lve/main/config.json: 100%|██████████| 762/762 [00:00<00:00, 370kB/s]\n",
      "Downloading (…)\"pytorch_model.bin\";: 100%|██████████| 1.34G/1.34G [03:23<00:00, 6.58MB/s]\n",
      "Some weights of the model checkpoint at bert-large-cased were not used when initializing BertForMaskedLM: ['cls.seq_relationship.bias', 'cls.seq_relationship.weight']\n",
      "- This IS expected if you are initializing BertForMaskedLM from the checkpoint of a model trained on another task or with another architecture (e.g. initializing a BertForSequenceClassification model from a BertForPreTraining model).\n",
      "- This IS NOT expected if you are initializing BertForMaskedLM from the checkpoint of a model that you expect to be exactly identical (initializing a BertForSequenceClassification model from a BertForSequenceClassification model).\n",
      "Downloading (…)okenizer_config.json: 100%|██████████| 29.0/29.0 [00:00<00:00, 11.1kB/s]\n",
      "Downloading (…)solve/main/vocab.txt: 100%|██████████| 213k/213k [00:00<00:00, 242kB/s]\n",
      "Downloading (…)/main/tokenizer.json: 100%|██████████| 436k/436k [00:01<00:00, 354kB/s]\n"
     ]
    }
   ],
   "source": [
    "from transformers import pipeline\n",
    "unmasker = pipeline('fill-mask', model='bert-large-cased')"
   ]
  },
  {
   "cell_type": "code",
   "execution_count": 5,
   "metadata": {},
   "outputs": [
    {
     "data": {
      "text/plain": [
       "[[{'score': 0.24860656261444092,\n",
       "   'token': 2775,\n",
       "   'token_str': 'computer',\n",
       "   'sequence': '[CLS] My job requires me to work on a computer everyday. I am a [MASK]. [SEP]'},\n",
       "  {'score': 0.09285320341587067,\n",
       "   'token': 3922,\n",
       "   'token_str': 'farm',\n",
       "   'sequence': '[CLS] My job requires me to work on a farm everyday. I am a [MASK]. [SEP]'},\n",
       "  {'score': 0.06258034706115723,\n",
       "   'token': 1692,\n",
       "   'token_str': 'case',\n",
       "   'sequence': '[CLS] My job requires me to work on a case everyday. I am a [MASK]. [SEP]'},\n",
       "  {'score': 0.05556024983525276,\n",
       "   'token': 12574,\n",
       "   'token_str': 'laptop',\n",
       "   'sequence': '[CLS] My job requires me to work on a laptop everyday. I am a [MASK]. [SEP]'},\n",
       "  {'score': 0.020841414108872414,\n",
       "   'token': 1933,\n",
       "   'token_str': 'project',\n",
       "   'sequence': '[CLS] My job requires me to work on a project everyday. I am a [MASK]. [SEP]'}],\n",
       " [{'score': 0.09154307097196579,\n",
       "   'token': 2432,\n",
       "   'token_str': 'writer',\n",
       "   'sequence': '[CLS] My job requires me to work on a [MASK] everyday. I am a writer. [SEP]'},\n",
       "  {'score': 0.041175294667482376,\n",
       "   'token': 3218,\n",
       "   'token_str': 'teacher',\n",
       "   'sequence': '[CLS] My job requires me to work on a [MASK] everyday. I am a teacher. [SEP]'},\n",
       "  {'score': 0.03845301270484924,\n",
       "   'token': 4391,\n",
       "   'token_str': 'journalist',\n",
       "   'sequence': '[CLS] My job requires me to work on a [MASK] everyday. I am a journalist. [SEP]'},\n",
       "  {'score': 0.035824961960315704,\n",
       "   'token': 25169,\n",
       "   'token_str': 'carpenter',\n",
       "   'sequence': '[CLS] My job requires me to work on a [MASK] everyday. I am a carpenter. [SEP]'},\n",
       "  {'score': 0.02097316086292267,\n",
       "   'token': 4545,\n",
       "   'token_str': 'lawyer',\n",
       "   'sequence': '[CLS] My job requires me to work on a [MASK] everyday. I am a lawyer. [SEP]'}]]"
      ]
     },
     "execution_count": 5,
     "metadata": {},
     "output_type": "execute_result"
    }
   ],
   "source": [
    "unmasker(\"My job requires me to work on a [MASK] everyday. I am a [MASK].\")"
   ]
  },
  {
   "attachments": {},
   "cell_type": "markdown",
   "metadata": {},
   "source": [
    "Here is how to use this model to get the features of a given text in PyTorch:"
   ]
  },
  {
   "cell_type": "code",
   "execution_count": 6,
   "metadata": {},
   "outputs": [
    {
     "name": "stderr",
     "output_type": "stream",
     "text": [
      "Some weights of the model checkpoint at bert-large-cased were not used when initializing BertModel: ['cls.seq_relationship.bias', 'cls.predictions.transform.LayerNorm.weight', 'cls.seq_relationship.weight', 'cls.predictions.bias', 'cls.predictions.decoder.weight', 'cls.predictions.transform.dense.bias', 'cls.predictions.transform.LayerNorm.bias', 'cls.predictions.transform.dense.weight']\n",
      "- This IS expected if you are initializing BertModel from the checkpoint of a model trained on another task or with another architecture (e.g. initializing a BertForSequenceClassification model from a BertForPreTraining model).\n",
      "- This IS NOT expected if you are initializing BertModel from the checkpoint of a model that you expect to be exactly identical (initializing a BertForSequenceClassification model from a BertForSequenceClassification model).\n"
     ]
    },
    {
     "data": {
      "text/plain": [
       "BaseModelOutputWithPoolingAndCrossAttentions(last_hidden_state=tensor([[[-0.3712, -0.6087,  0.6811,  ..., -0.1764, -0.2981,  0.1912],\n",
       "         [ 0.2954,  0.1487, -0.4758,  ..., -1.0722,  0.7647, -0.2719],\n",
       "         [-0.0229,  0.2538,  0.4917,  ...,  0.1088, -0.3639,  0.7795],\n",
       "         ...,\n",
       "         [ 0.0234,  0.4296,  0.1787,  ...,  0.2195,  0.0112,  0.0642],\n",
       "         [ 0.9951, -0.5820,  0.9646,  ..., -0.1429, -0.2179, -0.2663],\n",
       "         [ 1.2194, -1.3121,  0.2408,  ..., -0.6321, -0.3233,  0.8943]]],\n",
       "       grad_fn=<NativeLayerNormBackward0>), pooler_output=tensor([[ 0.9641,  0.9999,  0.9999,  ..., -1.0000,  0.5894,  0.9971]],\n",
       "       grad_fn=<TanhBackward0>), hidden_states=None, past_key_values=None, attentions=None, cross_attentions=None)"
      ]
     },
     "execution_count": 6,
     "metadata": {},
     "output_type": "execute_result"
    }
   ],
   "source": [
    "from transformers import BertTokenizer, BertModel\n",
    "tokenizer = BertTokenizer.from_pretrained('bert-large-cased')\n",
    "model = BertModel.from_pretrained(\"bert-large-cased\")\n",
    "text = \"Replace me by any text you'd like.\"\n",
    "encoded_input = tokenizer(text, return_tensors='pt')\n",
    "output = model(**encoded_input)\n",
    "output"
   ]
  }
 ],
 "metadata": {
  "kernelspec": {
   "display_name": "pt-hf",
   "language": "python",
   "name": "python3"
  },
  "language_info": {
   "codemirror_mode": {
    "name": "ipython",
    "version": 3
   },
   "file_extension": ".py",
   "mimetype": "text/x-python",
   "name": "python",
   "nbconvert_exporter": "python",
   "pygments_lexer": "ipython3",
   "version": "3.10.9"
  },
  "orig_nbformat": 4,
  "vscode": {
   "interpreter": {
    "hash": "adf58c87b26d4d4eadfb583e93675b75323ab4346510f86229823dd08facd68d"
   }
  }
 },
 "nbformat": 4,
 "nbformat_minor": 2
}
